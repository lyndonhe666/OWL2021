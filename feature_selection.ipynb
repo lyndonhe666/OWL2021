{
 "cells": [
  {
   "cell_type": "code",
   "execution_count": 1,
   "metadata": {},
   "outputs": [],
   "source": [
    "import pandas as pd\n",
    "import matplotlib.pyplot as plt\n",
    "pd.set_option('max_columns', 50)\n",
    "pd.set_option('max_rows', 200)\n",
    "import seaborn as sns"
   ]
  },
  {
   "cell_type": "markdown",
   "metadata": {},
   "source": [
    "# Key Result of This Notebook\n",
    "- choose certain amount of stats for analysis\n",
    "- valid stats data"
   ]
  },
  {
   "cell_type": "code",
   "execution_count": 2,
   "metadata": {},
   "outputs": [],
   "source": [
    "df0 = pd.read_csv('/Users/lyndon/Documents/projects/ow/input/phs_2021.csv')"
   ]
  },
  {
   "cell_type": "code",
   "execution_count": 3,
   "metadata": {},
   "outputs": [
    {
     "data": {
      "text/html": [
       "<div>\n",
       "<style scoped>\n",
       "    .dataframe tbody tr th:only-of-type {\n",
       "        vertical-align: middle;\n",
       "    }\n",
       "\n",
       "    .dataframe tbody tr th {\n",
       "        vertical-align: top;\n",
       "    }\n",
       "\n",
       "    .dataframe thead th {\n",
       "        text-align: right;\n",
       "    }\n",
       "</style>\n",
       "<table border=\"1\" class=\"dataframe\">\n",
       "  <thead>\n",
       "    <tr style=\"text-align: right;\">\n",
       "      <th></th>\n",
       "      <th>start_time</th>\n",
       "      <th>esports_match_id</th>\n",
       "      <th>tournament_title</th>\n",
       "      <th>map_type</th>\n",
       "      <th>map_name</th>\n",
       "      <th>player_name</th>\n",
       "      <th>team_name</th>\n",
       "      <th>stat_name</th>\n",
       "      <th>hero_name</th>\n",
       "      <th>stat_amount</th>\n",
       "    </tr>\n",
       "  </thead>\n",
       "  <tbody>\n",
       "    <tr>\n",
       "      <th>0</th>\n",
       "      <td>2021-04-16 19:08:52</td>\n",
       "      <td>37234</td>\n",
       "      <td>OWL 2021</td>\n",
       "      <td>CONTROL</td>\n",
       "      <td>Busan</td>\n",
       "      <td>Doha</td>\n",
       "      <td>Dallas Fuel</td>\n",
       "      <td>All Damage Done</td>\n",
       "      <td>All Heroes</td>\n",
       "      <td>13900.680095</td>\n",
       "    </tr>\n",
       "    <tr>\n",
       "      <th>1</th>\n",
       "      <td>2021-04-16 19:08:52</td>\n",
       "      <td>37234</td>\n",
       "      <td>OWL 2021</td>\n",
       "      <td>CONTROL</td>\n",
       "      <td>Busan</td>\n",
       "      <td>Doha</td>\n",
       "      <td>Dallas Fuel</td>\n",
       "      <td>Assists</td>\n",
       "      <td>All Heroes</td>\n",
       "      <td>8.000000</td>\n",
       "    </tr>\n",
       "    <tr>\n",
       "      <th>2</th>\n",
       "      <td>2021-04-16 19:08:52</td>\n",
       "      <td>37234</td>\n",
       "      <td>OWL 2021</td>\n",
       "      <td>CONTROL</td>\n",
       "      <td>Busan</td>\n",
       "      <td>Doha</td>\n",
       "      <td>Dallas Fuel</td>\n",
       "      <td>Average Time Alive</td>\n",
       "      <td>All Heroes</td>\n",
       "      <td>56.481102</td>\n",
       "    </tr>\n",
       "    <tr>\n",
       "      <th>3</th>\n",
       "      <td>2021-04-16 19:08:52</td>\n",
       "      <td>37234</td>\n",
       "      <td>OWL 2021</td>\n",
       "      <td>CONTROL</td>\n",
       "      <td>Busan</td>\n",
       "      <td>Doha</td>\n",
       "      <td>Dallas Fuel</td>\n",
       "      <td>Barrier Damage Done</td>\n",
       "      <td>All Heroes</td>\n",
       "      <td>1495.492155</td>\n",
       "    </tr>\n",
       "    <tr>\n",
       "      <th>4</th>\n",
       "      <td>2021-04-16 19:08:52</td>\n",
       "      <td>37234</td>\n",
       "      <td>OWL 2021</td>\n",
       "      <td>CONTROL</td>\n",
       "      <td>Busan</td>\n",
       "      <td>Doha</td>\n",
       "      <td>Dallas Fuel</td>\n",
       "      <td>Damage - Quick Melee</td>\n",
       "      <td>All Heroes</td>\n",
       "      <td>60.000000</td>\n",
       "    </tr>\n",
       "  </tbody>\n",
       "</table>\n",
       "</div>"
      ],
      "text/plain": [
       "            start_time  esports_match_id tournament_title map_type map_name  \\\n",
       "0  2021-04-16 19:08:52             37234         OWL 2021  CONTROL    Busan   \n",
       "1  2021-04-16 19:08:52             37234         OWL 2021  CONTROL    Busan   \n",
       "2  2021-04-16 19:08:52             37234         OWL 2021  CONTROL    Busan   \n",
       "3  2021-04-16 19:08:52             37234         OWL 2021  CONTROL    Busan   \n",
       "4  2021-04-16 19:08:52             37234         OWL 2021  CONTROL    Busan   \n",
       "\n",
       "  player_name    team_name             stat_name   hero_name   stat_amount  \n",
       "0        Doha  Dallas Fuel       All Damage Done  All Heroes  13900.680095  \n",
       "1        Doha  Dallas Fuel               Assists  All Heroes      8.000000  \n",
       "2        Doha  Dallas Fuel    Average Time Alive  All Heroes     56.481102  \n",
       "3        Doha  Dallas Fuel   Barrier Damage Done  All Heroes   1495.492155  \n",
       "4        Doha  Dallas Fuel  Damage - Quick Melee  All Heroes     60.000000  "
      ]
     },
     "execution_count": 3,
     "metadata": {},
     "output_type": "execute_result"
    }
   ],
   "source": [
    "df0.head()"
   ]
  },
  {
   "cell_type": "code",
   "execution_count": 4,
   "metadata": {},
   "outputs": [
    {
     "name": "stdout",
     "output_type": "stream",
     "text": [
      "<class 'pandas.core.frame.DataFrame'>\n",
      "RangeIndex: 1031558 entries, 0 to 1031557\n",
      "Data columns (total 10 columns):\n",
      " #   Column            Non-Null Count    Dtype  \n",
      "---  ------            --------------    -----  \n",
      " 0   start_time        1031558 non-null  object \n",
      " 1   esports_match_id  1031558 non-null  int64  \n",
      " 2   tournament_title  1031558 non-null  object \n",
      " 3   map_type          1031558 non-null  object \n",
      " 4   map_name          1031558 non-null  object \n",
      " 5   player_name       1031558 non-null  object \n",
      " 6   team_name         1031558 non-null  object \n",
      " 7   stat_name         996093 non-null   object \n",
      " 8   hero_name         1031558 non-null  object \n",
      " 9   stat_amount       1031558 non-null  float64\n",
      "dtypes: float64(1), int64(1), object(8)\n",
      "memory usage: 78.7+ MB\n"
     ]
    }
   ],
   "source": [
    "df0.info()"
   ]
  },
  {
   "cell_type": "code",
   "execution_count": 5,
   "metadata": {},
   "outputs": [
    {
     "data": {
      "text/plain": [
       "Time Building Ultimate              31851\n",
       "Time Alive                          31851\n",
       "Time Played                         31738\n",
       "Ultimates Earned - Fractional       31612\n",
       "Time Elapsed per Ultimate Earned    31612\n",
       "                                    ...  \n",
       "Recon Kills                             4\n",
       "Damage - Weapon Tank                    2\n",
       "Tank Kills                              1\n",
       "Total Mayhem Kills                      1\n",
       "Tank Efficiency                         1\n",
       "Name: stat_name, Length: 358, dtype: int64"
      ]
     },
     "execution_count": 5,
     "metadata": {},
     "output_type": "execute_result"
    }
   ],
   "source": [
    "df0['stat_name'].value_counts()"
   ]
  },
  {
   "cell_type": "code",
   "execution_count": 13,
   "metadata": {},
   "outputs": [],
   "source": [
    "stat_num = df0.groupby('stat_name').agg({'hero_name':'nunique'}).reset_index()"
   ]
  },
  {
   "cell_type": "code",
   "execution_count": 19,
   "metadata": {},
   "outputs": [
    {
     "data": {
      "text/html": [
       "<div>\n",
       "<style scoped>\n",
       "    .dataframe tbody tr th:only-of-type {\n",
       "        vertical-align: middle;\n",
       "    }\n",
       "\n",
       "    .dataframe tbody tr th {\n",
       "        vertical-align: top;\n",
       "    }\n",
       "\n",
       "    .dataframe thead th {\n",
       "        text-align: right;\n",
       "    }\n",
       "</style>\n",
       "<table border=\"1\" class=\"dataframe\">\n",
       "  <thead>\n",
       "    <tr style=\"text-align: right;\">\n",
       "      <th></th>\n",
       "      <th>stat_name</th>\n",
       "      <th>hero_name</th>\n",
       "    </tr>\n",
       "  </thead>\n",
       "  <tbody>\n",
       "    <tr>\n",
       "      <th>20</th>\n",
       "      <td>Barrier Damage Done</td>\n",
       "      <td>33</td>\n",
       "    </tr>\n",
       "    <tr>\n",
       "      <th>347</th>\n",
       "      <td>Ultimates Used</td>\n",
       "      <td>33</td>\n",
       "    </tr>\n",
       "    <tr>\n",
       "      <th>332</th>\n",
       "      <td>Time Elapsed per Ultimate Earned</td>\n",
       "      <td>33</td>\n",
       "    </tr>\n",
       "    <tr>\n",
       "      <th>334</th>\n",
       "      <td>Time Holding Ultimate</td>\n",
       "      <td>33</td>\n",
       "    </tr>\n",
       "    <tr>\n",
       "      <th>335</th>\n",
       "      <td>Time Played</td>\n",
       "      <td>33</td>\n",
       "    </tr>\n",
       "    <tr>\n",
       "      <th>...</th>\n",
       "      <td>...</td>\n",
       "      <td>...</td>\n",
       "    </tr>\n",
       "    <tr>\n",
       "      <th>126</th>\n",
       "      <td>Damage Taken - Tank</td>\n",
       "      <td>1</td>\n",
       "    </tr>\n",
       "    <tr>\n",
       "      <th>125</th>\n",
       "      <td>Damage Taken - Ball</td>\n",
       "      <td>1</td>\n",
       "    </tr>\n",
       "    <tr>\n",
       "      <th>124</th>\n",
       "      <td>Damage Taken - Adaptive Shield</td>\n",
       "      <td>1</td>\n",
       "    </tr>\n",
       "    <tr>\n",
       "      <th>122</th>\n",
       "      <td>Damage Reflected</td>\n",
       "      <td>1</td>\n",
       "    </tr>\n",
       "    <tr>\n",
       "      <th>357</th>\n",
       "      <td>of Rockets Fired</td>\n",
       "      <td>1</td>\n",
       "    </tr>\n",
       "  </tbody>\n",
       "</table>\n",
       "<p>358 rows × 2 columns</p>\n",
       "</div>"
      ],
      "text/plain": [
       "                            stat_name  hero_name\n",
       "20                Barrier Damage Done         33\n",
       "347                    Ultimates Used         33\n",
       "332  Time Elapsed per Ultimate Earned         33\n",
       "334             Time Holding Ultimate         33\n",
       "335                       Time Played         33\n",
       "..                                ...        ...\n",
       "126               Damage Taken - Tank          1\n",
       "125               Damage Taken - Ball          1\n",
       "124    Damage Taken - Adaptive Shield          1\n",
       "122                  Damage Reflected          1\n",
       "357                  of Rockets Fired          1\n",
       "\n",
       "[358 rows x 2 columns]"
      ]
     },
     "execution_count": 19,
     "metadata": {},
     "output_type": "execute_result"
    }
   ],
   "source": [
    "stat_num.sort_values(by='hero_name',ascending=False)"
   ]
  },
  {
   "cell_type": "code",
   "execution_count": 30,
   "metadata": {},
   "outputs": [
    {
     "data": {
      "text/html": [
       "<div>\n",
       "<style scoped>\n",
       "    .dataframe tbody tr th:only-of-type {\n",
       "        vertical-align: middle;\n",
       "    }\n",
       "\n",
       "    .dataframe tbody tr th {\n",
       "        vertical-align: top;\n",
       "    }\n",
       "\n",
       "    .dataframe thead th {\n",
       "        text-align: right;\n",
       "    }\n",
       "</style>\n",
       "<table border=\"1\" class=\"dataframe\">\n",
       "  <thead>\n",
       "    <tr style=\"text-align: right;\">\n",
       "      <th></th>\n",
       "      <th>stat_name</th>\n",
       "      <th>hero_name</th>\n",
       "    </tr>\n",
       "  </thead>\n",
       "  <tbody>\n",
       "    <tr>\n",
       "      <th>298</th>\n",
       "      <td>Shots Missed</td>\n",
       "      <td>27</td>\n",
       "    </tr>\n",
       "    <tr>\n",
       "      <th>297</th>\n",
       "      <td>Shots Hit</td>\n",
       "      <td>27</td>\n",
       "    </tr>\n",
       "    <tr>\n",
       "      <th>353</th>\n",
       "      <td>Weapon Accuracy</td>\n",
       "      <td>28</td>\n",
       "    </tr>\n",
       "    <tr>\n",
       "      <th>296</th>\n",
       "      <td>Shots Fired</td>\n",
       "      <td>28</td>\n",
       "    </tr>\n",
       "    <tr>\n",
       "      <th>259</th>\n",
       "      <td>Quick Melee Hits</td>\n",
       "      <td>29</td>\n",
       "    </tr>\n",
       "    <tr>\n",
       "      <th>216</th>\n",
       "      <td>Melee Final Blows</td>\n",
       "      <td>29</td>\n",
       "    </tr>\n",
       "    <tr>\n",
       "      <th>258</th>\n",
       "      <td>Quick Melee Accuracy</td>\n",
       "      <td>29</td>\n",
       "    </tr>\n",
       "    <tr>\n",
       "      <th>89</th>\n",
       "      <td>Damage - Quick Melee</td>\n",
       "      <td>30</td>\n",
       "    </tr>\n",
       "    <tr>\n",
       "      <th>260</th>\n",
       "      <td>Quick Melee Ticks</td>\n",
       "      <td>30</td>\n",
       "    </tr>\n",
       "    <tr>\n",
       "      <th>344</th>\n",
       "      <td>Turrets Destroyed</td>\n",
       "      <td>31</td>\n",
       "    </tr>\n",
       "    <tr>\n",
       "      <th>333</th>\n",
       "      <td>Time Hacked</td>\n",
       "      <td>31</td>\n",
       "    </tr>\n",
       "    <tr>\n",
       "      <th>331</th>\n",
       "      <td>Time Discorded</td>\n",
       "      <td>31</td>\n",
       "    </tr>\n",
       "    <tr>\n",
       "      <th>156</th>\n",
       "      <td>Environmental Deaths</td>\n",
       "      <td>32</td>\n",
       "    </tr>\n",
       "    <tr>\n",
       "      <th>196</th>\n",
       "      <td>Healing Received</td>\n",
       "      <td>32</td>\n",
       "    </tr>\n",
       "    <tr>\n",
       "      <th>148</th>\n",
       "      <td>Eliminations</td>\n",
       "      <td>33</td>\n",
       "    </tr>\n",
       "    <tr>\n",
       "      <th>345</th>\n",
       "      <td>Ultimates Earned - Fractional</td>\n",
       "      <td>33</td>\n",
       "    </tr>\n",
       "    <tr>\n",
       "      <th>335</th>\n",
       "      <td>Time Played</td>\n",
       "      <td>33</td>\n",
       "    </tr>\n",
       "    <tr>\n",
       "      <th>334</th>\n",
       "      <td>Time Holding Ultimate</td>\n",
       "      <td>33</td>\n",
       "    </tr>\n",
       "    <tr>\n",
       "      <th>332</th>\n",
       "      <td>Time Elapsed per Ultimate Earned</td>\n",
       "      <td>33</td>\n",
       "    </tr>\n",
       "    <tr>\n",
       "      <th>330</th>\n",
       "      <td>Time Building Ultimate</td>\n",
       "      <td>33</td>\n",
       "    </tr>\n",
       "    <tr>\n",
       "      <th>329</th>\n",
       "      <td>Time Alive</td>\n",
       "      <td>33</td>\n",
       "    </tr>\n",
       "    <tr>\n",
       "      <th>302</th>\n",
       "      <td>Solo Kills</td>\n",
       "      <td>33</td>\n",
       "    </tr>\n",
       "    <tr>\n",
       "      <th>17</th>\n",
       "      <td>Average Time Alive</td>\n",
       "      <td>33</td>\n",
       "    </tr>\n",
       "    <tr>\n",
       "      <th>132</th>\n",
       "      <td>Deaths</td>\n",
       "      <td>33</td>\n",
       "    </tr>\n",
       "    <tr>\n",
       "      <th>20</th>\n",
       "      <td>Barrier Damage Done</td>\n",
       "      <td>33</td>\n",
       "    </tr>\n",
       "    <tr>\n",
       "      <th>347</th>\n",
       "      <td>Ultimates Used</td>\n",
       "      <td>33</td>\n",
       "    </tr>\n",
       "    <tr>\n",
       "      <th>229</th>\n",
       "      <td>Objective Time</td>\n",
       "      <td>33</td>\n",
       "    </tr>\n",
       "    <tr>\n",
       "      <th>228</th>\n",
       "      <td>Objective Kills</td>\n",
       "      <td>33</td>\n",
       "    </tr>\n",
       "    <tr>\n",
       "      <th>224</th>\n",
       "      <td>Multikills</td>\n",
       "      <td>33</td>\n",
       "    </tr>\n",
       "    <tr>\n",
       "      <th>123</th>\n",
       "      <td>Damage Taken</td>\n",
       "      <td>33</td>\n",
       "    </tr>\n",
       "    <tr>\n",
       "      <th>199</th>\n",
       "      <td>Hero Damage Done</td>\n",
       "      <td>33</td>\n",
       "    </tr>\n",
       "    <tr>\n",
       "      <th>159</th>\n",
       "      <td>Final Blows</td>\n",
       "      <td>33</td>\n",
       "    </tr>\n",
       "    <tr>\n",
       "      <th>14</th>\n",
       "      <td>Assists</td>\n",
       "      <td>33</td>\n",
       "    </tr>\n",
       "    <tr>\n",
       "      <th>6</th>\n",
       "      <td>All Damage Done</td>\n",
       "      <td>33</td>\n",
       "    </tr>\n",
       "  </tbody>\n",
       "</table>\n",
       "</div>"
      ],
      "text/plain": [
       "                            stat_name  hero_name\n",
       "298                      Shots Missed         27\n",
       "297                         Shots Hit         27\n",
       "353                   Weapon Accuracy         28\n",
       "296                       Shots Fired         28\n",
       "259                  Quick Melee Hits         29\n",
       "216                 Melee Final Blows         29\n",
       "258              Quick Melee Accuracy         29\n",
       "89               Damage - Quick Melee         30\n",
       "260                 Quick Melee Ticks         30\n",
       "344                 Turrets Destroyed         31\n",
       "333                       Time Hacked         31\n",
       "331                    Time Discorded         31\n",
       "156              Environmental Deaths         32\n",
       "196                  Healing Received         32\n",
       "148                      Eliminations         33\n",
       "345     Ultimates Earned - Fractional         33\n",
       "335                       Time Played         33\n",
       "334             Time Holding Ultimate         33\n",
       "332  Time Elapsed per Ultimate Earned         33\n",
       "330            Time Building Ultimate         33\n",
       "329                        Time Alive         33\n",
       "302                        Solo Kills         33\n",
       "17                 Average Time Alive         33\n",
       "132                            Deaths         33\n",
       "20                Barrier Damage Done         33\n",
       "347                    Ultimates Used         33\n",
       "229                    Objective Time         33\n",
       "228                   Objective Kills         33\n",
       "224                        Multikills         33\n",
       "123                      Damage Taken         33\n",
       "199                  Hero Damage Done         33\n",
       "159                       Final Blows         33\n",
       "14                            Assists         33\n",
       "6                     All Damage Done         33"
      ]
     },
     "execution_count": 30,
     "metadata": {},
     "output_type": "execute_result"
    }
   ],
   "source": [
    "stat_num[stat_num['hero_name']>=25].sort_values(by='hero_name')"
   ]
  },
  {
   "cell_type": "code",
   "execution_count": 26,
   "metadata": {},
   "outputs": [
    {
     "data": {
      "text/html": [
       "<div>\n",
       "<style scoped>\n",
       "    .dataframe tbody tr th:only-of-type {\n",
       "        vertical-align: middle;\n",
       "    }\n",
       "\n",
       "    .dataframe tbody tr th {\n",
       "        vertical-align: top;\n",
       "    }\n",
       "\n",
       "    .dataframe thead th {\n",
       "        text-align: right;\n",
       "    }\n",
       "</style>\n",
       "<table border=\"1\" class=\"dataframe\">\n",
       "  <thead>\n",
       "    <tr style=\"text-align: right;\">\n",
       "      <th></th>\n",
       "      <th>stat_name</th>\n",
       "      <th>hero_name</th>\n",
       "    </tr>\n",
       "  </thead>\n",
       "  <tbody>\n",
       "    <tr>\n",
       "      <th>21</th>\n",
       "      <td>Biotic Field Healing Done</td>\n",
       "      <td>1</td>\n",
       "    </tr>\n",
       "    <tr>\n",
       "      <th>24</th>\n",
       "      <td>Biotic Launcher Healing Explosions</td>\n",
       "      <td>1</td>\n",
       "    </tr>\n",
       "    <tr>\n",
       "      <th>25</th>\n",
       "      <td>Biotic Launcher Healing Shots</td>\n",
       "      <td>1</td>\n",
       "    </tr>\n",
       "    <tr>\n",
       "      <th>27</th>\n",
       "      <td>Biotic Orb Healing Efficiency</td>\n",
       "      <td>1</td>\n",
       "    </tr>\n",
       "    <tr>\n",
       "      <th>29</th>\n",
       "      <td>Biotic Orb Maximum Healing</td>\n",
       "      <td>1</td>\n",
       "    </tr>\n",
       "    <tr>\n",
       "      <th>37</th>\n",
       "      <td>Coalescence Healing</td>\n",
       "      <td>1</td>\n",
       "    </tr>\n",
       "    <tr>\n",
       "      <th>40</th>\n",
       "      <td>Coalesence - Healing per Use</td>\n",
       "      <td>1</td>\n",
       "    </tr>\n",
       "    <tr>\n",
       "      <th>177</th>\n",
       "      <td>Healing - Biotic Grenade</td>\n",
       "      <td>1</td>\n",
       "    </tr>\n",
       "    <tr>\n",
       "      <th>178</th>\n",
       "      <td>Healing - Biotic Launcher</td>\n",
       "      <td>1</td>\n",
       "    </tr>\n",
       "    <tr>\n",
       "      <th>179</th>\n",
       "      <td>Healing - Biotic Orb</td>\n",
       "      <td>1</td>\n",
       "    </tr>\n",
       "    <tr>\n",
       "      <th>180</th>\n",
       "      <td>Healing - Coalescence</td>\n",
       "      <td>1</td>\n",
       "    </tr>\n",
       "    <tr>\n",
       "      <th>181</th>\n",
       "      <td>Healing - Harmony Orb</td>\n",
       "      <td>1</td>\n",
       "    </tr>\n",
       "    <tr>\n",
       "      <th>182</th>\n",
       "      <td>Healing - Healing Boost</td>\n",
       "      <td>1</td>\n",
       "    </tr>\n",
       "    <tr>\n",
       "      <th>183</th>\n",
       "      <td>Healing - Healing Boost Amped</td>\n",
       "      <td>1</td>\n",
       "    </tr>\n",
       "    <tr>\n",
       "      <th>184</th>\n",
       "      <td>Healing - Immortality Field</td>\n",
       "      <td>1</td>\n",
       "    </tr>\n",
       "    <tr>\n",
       "      <th>185</th>\n",
       "      <td>Healing - Inspire</td>\n",
       "      <td>1</td>\n",
       "    </tr>\n",
       "    <tr>\n",
       "      <th>186</th>\n",
       "      <td>Healing - Regenerative Burst</td>\n",
       "      <td>1</td>\n",
       "    </tr>\n",
       "    <tr>\n",
       "      <th>187</th>\n",
       "      <td>Healing - Repair Pack</td>\n",
       "      <td>1</td>\n",
       "    </tr>\n",
       "    <tr>\n",
       "      <th>188</th>\n",
       "      <td>Healing - Secondary Fire</td>\n",
       "      <td>1</td>\n",
       "    </tr>\n",
       "    <tr>\n",
       "      <th>189</th>\n",
       "      <td>Healing - Transcendence</td>\n",
       "      <td>1</td>\n",
       "    </tr>\n",
       "    <tr>\n",
       "      <th>190</th>\n",
       "      <td>Healing - Weapon</td>\n",
       "      <td>2</td>\n",
       "    </tr>\n",
       "    <tr>\n",
       "      <th>191</th>\n",
       "      <td>Healing - Weapon Scoped</td>\n",
       "      <td>1</td>\n",
       "    </tr>\n",
       "    <tr>\n",
       "      <th>192</th>\n",
       "      <td>Healing - Weapon Valkyrie</td>\n",
       "      <td>1</td>\n",
       "    </tr>\n",
       "    <tr>\n",
       "      <th>193</th>\n",
       "      <td>Healing Accuracy</td>\n",
       "      <td>1</td>\n",
       "    </tr>\n",
       "    <tr>\n",
       "      <th>194</th>\n",
       "      <td>Healing Amplified</td>\n",
       "      <td>2</td>\n",
       "    </tr>\n",
       "    <tr>\n",
       "      <th>195</th>\n",
       "      <td>Healing Done</td>\n",
       "      <td>9</td>\n",
       "    </tr>\n",
       "    <tr>\n",
       "      <th>196</th>\n",
       "      <td>Healing Received</td>\n",
       "      <td>32</td>\n",
       "    </tr>\n",
       "    <tr>\n",
       "      <th>288</th>\n",
       "      <td>Self Healing</td>\n",
       "      <td>13</td>\n",
       "    </tr>\n",
       "    <tr>\n",
       "      <th>289</th>\n",
       "      <td>Self Healing Percent of Damage Taken</td>\n",
       "      <td>13</td>\n",
       "    </tr>\n",
       "    <tr>\n",
       "      <th>340</th>\n",
       "      <td>Transcendence Healing</td>\n",
       "      <td>1</td>\n",
       "    </tr>\n",
       "    <tr>\n",
       "      <th>341</th>\n",
       "      <td>Transcendence Percent of Healing</td>\n",
       "      <td>1</td>\n",
       "    </tr>\n",
       "    <tr>\n",
       "      <th>351</th>\n",
       "      <td>Valkyrie Healing Efficiency</td>\n",
       "      <td>1</td>\n",
       "    </tr>\n",
       "  </tbody>\n",
       "</table>\n",
       "</div>"
      ],
      "text/plain": [
       "                                stat_name  hero_name\n",
       "21              Biotic Field Healing Done          1\n",
       "24     Biotic Launcher Healing Explosions          1\n",
       "25          Biotic Launcher Healing Shots          1\n",
       "27          Biotic Orb Healing Efficiency          1\n",
       "29             Biotic Orb Maximum Healing          1\n",
       "37                    Coalescence Healing          1\n",
       "40           Coalesence - Healing per Use          1\n",
       "177              Healing - Biotic Grenade          1\n",
       "178             Healing - Biotic Launcher          1\n",
       "179                  Healing - Biotic Orb          1\n",
       "180                 Healing - Coalescence          1\n",
       "181                 Healing - Harmony Orb          1\n",
       "182               Healing - Healing Boost          1\n",
       "183         Healing - Healing Boost Amped          1\n",
       "184           Healing - Immortality Field          1\n",
       "185                     Healing - Inspire          1\n",
       "186          Healing - Regenerative Burst          1\n",
       "187                 Healing - Repair Pack          1\n",
       "188              Healing - Secondary Fire          1\n",
       "189               Healing - Transcendence          1\n",
       "190                      Healing - Weapon          2\n",
       "191               Healing - Weapon Scoped          1\n",
       "192             Healing - Weapon Valkyrie          1\n",
       "193                      Healing Accuracy          1\n",
       "194                     Healing Amplified          2\n",
       "195                          Healing Done          9\n",
       "196                      Healing Received         32\n",
       "288                          Self Healing         13\n",
       "289  Self Healing Percent of Damage Taken         13\n",
       "340                 Transcendence Healing          1\n",
       "341      Transcendence Percent of Healing          1\n",
       "351           Valkyrie Healing Efficiency          1"
      ]
     },
     "execution_count": 26,
     "metadata": {},
     "output_type": "execute_result"
    }
   ],
   "source": [
    "stat_num[stat_num['stat_name'].str.contains('Healing')]"
   ]
  },
  {
   "cell_type": "markdown",
   "metadata": {},
   "source": [
    "### choose final stat_names that will be analyzed\n",
    "- all the general stats(every hero has)\n",
    "- remove any quick melee\n",
    "- remoe any accuracy, shot fired/missed, etc"
   ]
  },
  {
   "cell_type": "code",
   "execution_count": 205,
   "metadata": {},
   "outputs": [],
   "source": [
    "stat_list = stat_num[stat_num['hero_name']>=25]['stat_name'].tolist()"
   ]
  },
  {
   "cell_type": "code",
   "execution_count": 206,
   "metadata": {},
   "outputs": [
    {
     "data": {
      "text/plain": [
       "['All Damage Done',\n",
       " 'Assists',\n",
       " 'Average Time Alive',\n",
       " 'Barrier Damage Done',\n",
       " 'Damage - Quick Melee',\n",
       " 'Damage Taken',\n",
       " 'Deaths',\n",
       " 'Eliminations',\n",
       " 'Environmental Deaths',\n",
       " 'Final Blows',\n",
       " 'Healing Received',\n",
       " 'Hero Damage Done',\n",
       " 'Melee Final Blows',\n",
       " 'Multikills',\n",
       " 'Objective Kills',\n",
       " 'Objective Time',\n",
       " 'Quick Melee Accuracy',\n",
       " 'Quick Melee Hits',\n",
       " 'Quick Melee Ticks',\n",
       " 'Shots Fired',\n",
       " 'Shots Hit',\n",
       " 'Shots Missed',\n",
       " 'Solo Kills',\n",
       " 'Time Alive',\n",
       " 'Time Building Ultimate',\n",
       " 'Time Discorded',\n",
       " 'Time Elapsed per Ultimate Earned',\n",
       " 'Time Hacked',\n",
       " 'Time Holding Ultimate',\n",
       " 'Time Played',\n",
       " 'Turrets Destroyed',\n",
       " 'Ultimates Earned - Fractional',\n",
       " 'Ultimates Used',\n",
       " 'Weapon Accuracy']"
      ]
     },
     "execution_count": 206,
     "metadata": {},
     "output_type": "execute_result"
    }
   ],
   "source": [
    "stat_list"
   ]
  },
  {
   "cell_type": "code",
   "execution_count": 207,
   "metadata": {},
   "outputs": [],
   "source": [
    "stat_list = [x for x in stat_list if 'Melee' not in x and 'Shots' not in x and 'Accuracy' not in x]"
   ]
  },
  {
   "cell_type": "code",
   "execution_count": 208,
   "metadata": {},
   "outputs": [],
   "source": [
    "stat_list.append('Healing Done')"
   ]
  },
  {
   "cell_type": "code",
   "execution_count": 210,
   "metadata": {},
   "outputs": [],
   "source": [
    "stat_list.remove('Turrets Destroyed')"
   ]
  },
  {
   "cell_type": "code",
   "execution_count": 211,
   "metadata": {},
   "outputs": [],
   "source": [
    "stat_list.remove('Time Elapsed per Ultimate Earned')"
   ]
  },
  {
   "cell_type": "code",
   "execution_count": 212,
   "metadata": {},
   "outputs": [],
   "source": [
    "stat_list.remove('Ultimates Earned - Fractional')"
   ]
  },
  {
   "cell_type": "code",
   "execution_count": 213,
   "metadata": {
    "scrolled": false
   },
   "outputs": [
    {
     "data": {
      "text/plain": [
       "['All Damage Done',\n",
       " 'Assists',\n",
       " 'Average Time Alive',\n",
       " 'Barrier Damage Done',\n",
       " 'Damage Taken',\n",
       " 'Deaths',\n",
       " 'Eliminations',\n",
       " 'Environmental Deaths',\n",
       " 'Final Blows',\n",
       " 'Healing Received',\n",
       " 'Hero Damage Done',\n",
       " 'Multikills',\n",
       " 'Objective Kills',\n",
       " 'Objective Time',\n",
       " 'Solo Kills',\n",
       " 'Time Alive',\n",
       " 'Time Building Ultimate',\n",
       " 'Time Discorded',\n",
       " 'Time Hacked',\n",
       " 'Time Holding Ultimate',\n",
       " 'Time Played',\n",
       " 'Ultimates Used',\n",
       " 'Healing Done']"
      ]
     },
     "execution_count": 213,
     "metadata": {},
     "output_type": "execute_result"
    }
   ],
   "source": [
    "# final stat_list\n",
    "stat_list"
   ]
  },
  {
   "cell_type": "code",
   "execution_count": 214,
   "metadata": {},
   "outputs": [
    {
     "data": {
      "text/plain": [
       "23"
      ]
     },
     "execution_count": 214,
     "metadata": {},
     "output_type": "execute_result"
    }
   ],
   "source": [
    "len(stat_list)"
   ]
  },
  {
   "cell_type": "code",
   "execution_count": 215,
   "metadata": {},
   "outputs": [],
   "source": [
    "# df contains only the stats in stat_list\n",
    "df1 = df0[df0['stat_name'].isin(stat_list)]"
   ]
  },
  {
   "cell_type": "code",
   "execution_count": 216,
   "metadata": {},
   "outputs": [
    {
     "name": "stdout",
     "output_type": "stream",
     "text": [
      "<class 'pandas.core.frame.DataFrame'>\n",
      "Int64Index: 496227 entries, 0 to 1031553\n",
      "Data columns (total 10 columns):\n",
      " #   Column            Non-Null Count   Dtype  \n",
      "---  ------            --------------   -----  \n",
      " 0   start_time        496227 non-null  object \n",
      " 1   esports_match_id  496227 non-null  int64  \n",
      " 2   tournament_title  496227 non-null  object \n",
      " 3   map_type          496227 non-null  object \n",
      " 4   map_name          496227 non-null  object \n",
      " 5   player_name       496227 non-null  object \n",
      " 6   team_name         496227 non-null  object \n",
      " 7   stat_name         496227 non-null  object \n",
      " 8   hero_name         496227 non-null  object \n",
      " 9   stat_amount       496227 non-null  float64\n",
      "dtypes: float64(1), int64(1), object(8)\n",
      "memory usage: 41.6+ MB\n"
     ]
    }
   ],
   "source": [
    "df1.info()"
   ]
  },
  {
   "cell_type": "code",
   "execution_count": 217,
   "metadata": {},
   "outputs": [
    {
     "data": {
      "text/plain": [
       "OWL 2021    496227\n",
       "Name: tournament_title, dtype: int64"
      ]
     },
     "execution_count": 217,
     "metadata": {},
     "output_type": "execute_result"
    }
   ],
   "source": [
    "df1['tournament_title'].value_counts()"
   ]
  },
  {
   "cell_type": "code",
   "execution_count": 218,
   "metadata": {},
   "outputs": [
    {
     "name": "stderr",
     "output_type": "stream",
     "text": [
      "/opt/anaconda3/lib/python3.7/site-packages/pandas/core/frame.py:3997: SettingWithCopyWarning: \n",
      "A value is trying to be set on a copy of a slice from a DataFrame\n",
      "\n",
      "See the caveats in the documentation: https://pandas.pydata.org/pandas-docs/stable/user_guide/indexing.html#returning-a-view-versus-a-copy\n",
      "  errors=errors,\n"
     ]
    }
   ],
   "source": [
    "# delete tournament_title\n",
    "df1.drop('tournament_title',axis=1,inplace=True)"
   ]
  },
  {
   "cell_type": "code",
   "execution_count": 221,
   "metadata": {},
   "outputs": [],
   "source": [
    "# export\n",
    "# df1.to_csv('analysis_base.csv')"
   ]
  },
  {
   "cell_type": "code",
   "execution_count": 222,
   "metadata": {},
   "outputs": [
    {
     "name": "stdout",
     "output_type": "stream",
     "text": [
      "<class 'pandas.core.frame.DataFrame'>\n",
      "Int64Index: 496227 entries, 0 to 1031553\n",
      "Data columns (total 9 columns):\n",
      " #   Column            Non-Null Count   Dtype  \n",
      "---  ------            --------------   -----  \n",
      " 0   start_time        496227 non-null  object \n",
      " 1   esports_match_id  496227 non-null  int64  \n",
      " 2   map_type          496227 non-null  object \n",
      " 3   map_name          496227 non-null  object \n",
      " 4   player_name       496227 non-null  object \n",
      " 5   team_name         496227 non-null  object \n",
      " 6   stat_name         496227 non-null  object \n",
      " 7   hero_name         496227 non-null  object \n",
      " 8   stat_amount       496227 non-null  float64\n",
      "dtypes: float64(1), int64(1), object(7)\n",
      "memory usage: 37.9+ MB\n"
     ]
    }
   ],
   "source": [
    "df1.info()"
   ]
  },
  {
   "cell_type": "code",
   "execution_count": 223,
   "metadata": {},
   "outputs": [],
   "source": [
    "# investigate hero_name (All Hero)\n",
    "all_hero_df = df1[df1['hero_name']=='All Heroes']"
   ]
  },
  {
   "cell_type": "code",
   "execution_count": 224,
   "metadata": {},
   "outputs": [],
   "source": [
    "non_all_hero_df = df1[df1['hero_name']!='All Heroes']"
   ]
  },
  {
   "cell_type": "code",
   "execution_count": 225,
   "metadata": {},
   "outputs": [
    {
     "data": {
      "text/html": [
       "<div>\n",
       "<style scoped>\n",
       "    .dataframe tbody tr th:only-of-type {\n",
       "        vertical-align: middle;\n",
       "    }\n",
       "\n",
       "    .dataframe tbody tr th {\n",
       "        vertical-align: top;\n",
       "    }\n",
       "\n",
       "    .dataframe thead th {\n",
       "        text-align: right;\n",
       "    }\n",
       "</style>\n",
       "<table border=\"1\" class=\"dataframe\">\n",
       "  <thead>\n",
       "    <tr style=\"text-align: right;\">\n",
       "      <th></th>\n",
       "      <th>start_time</th>\n",
       "      <th>esports_match_id</th>\n",
       "      <th>map_type</th>\n",
       "      <th>map_name</th>\n",
       "      <th>player_name</th>\n",
       "      <th>team_name</th>\n",
       "      <th>stat_name</th>\n",
       "      <th>hero_name</th>\n",
       "      <th>stat_amount</th>\n",
       "    </tr>\n",
       "  </thead>\n",
       "  <tbody>\n",
       "    <tr>\n",
       "      <th>25</th>\n",
       "      <td>2021-04-16 19:08:52</td>\n",
       "      <td>37234</td>\n",
       "      <td>CONTROL</td>\n",
       "      <td>Busan</td>\n",
       "      <td>Doha</td>\n",
       "      <td>Dallas Fuel</td>\n",
       "      <td>All Damage Done</td>\n",
       "      <td>Echo</td>\n",
       "      <td>314.000000</td>\n",
       "    </tr>\n",
       "    <tr>\n",
       "      <th>26</th>\n",
       "      <td>2021-04-16 19:08:52</td>\n",
       "      <td>37234</td>\n",
       "      <td>CONTROL</td>\n",
       "      <td>Busan</td>\n",
       "      <td>Doha</td>\n",
       "      <td>Dallas Fuel</td>\n",
       "      <td>Average Time Alive</td>\n",
       "      <td>Echo</td>\n",
       "      <td>16.881001</td>\n",
       "    </tr>\n",
       "    <tr>\n",
       "      <th>31</th>\n",
       "      <td>2021-04-16 19:08:52</td>\n",
       "      <td>37234</td>\n",
       "      <td>CONTROL</td>\n",
       "      <td>Busan</td>\n",
       "      <td>Doha</td>\n",
       "      <td>Dallas Fuel</td>\n",
       "      <td>Damage Taken</td>\n",
       "      <td>Echo</td>\n",
       "      <td>330.778026</td>\n",
       "    </tr>\n",
       "    <tr>\n",
       "      <th>32</th>\n",
       "      <td>2021-04-16 19:08:52</td>\n",
       "      <td>37234</td>\n",
       "      <td>CONTROL</td>\n",
       "      <td>Busan</td>\n",
       "      <td>Doha</td>\n",
       "      <td>Dallas Fuel</td>\n",
       "      <td>Deaths</td>\n",
       "      <td>Echo</td>\n",
       "      <td>1.000000</td>\n",
       "    </tr>\n",
       "    <tr>\n",
       "      <th>33</th>\n",
       "      <td>2021-04-16 19:08:52</td>\n",
       "      <td>37234</td>\n",
       "      <td>CONTROL</td>\n",
       "      <td>Busan</td>\n",
       "      <td>Doha</td>\n",
       "      <td>Dallas Fuel</td>\n",
       "      <td>Healing Received</td>\n",
       "      <td>Echo</td>\n",
       "      <td>130.778090</td>\n",
       "    </tr>\n",
       "  </tbody>\n",
       "</table>\n",
       "</div>"
      ],
      "text/plain": [
       "             start_time  esports_match_id map_type map_name player_name  \\\n",
       "25  2021-04-16 19:08:52             37234  CONTROL    Busan        Doha   \n",
       "26  2021-04-16 19:08:52             37234  CONTROL    Busan        Doha   \n",
       "31  2021-04-16 19:08:52             37234  CONTROL    Busan        Doha   \n",
       "32  2021-04-16 19:08:52             37234  CONTROL    Busan        Doha   \n",
       "33  2021-04-16 19:08:52             37234  CONTROL    Busan        Doha   \n",
       "\n",
       "      team_name           stat_name hero_name  stat_amount  \n",
       "25  Dallas Fuel     All Damage Done      Echo   314.000000  \n",
       "26  Dallas Fuel  Average Time Alive      Echo    16.881001  \n",
       "31  Dallas Fuel        Damage Taken      Echo   330.778026  \n",
       "32  Dallas Fuel              Deaths      Echo     1.000000  \n",
       "33  Dallas Fuel    Healing Received      Echo   130.778090  "
      ]
     },
     "execution_count": 225,
     "metadata": {},
     "output_type": "execute_result"
    }
   ],
   "source": [
    "non_all_hero_df.head()"
   ]
  },
  {
   "cell_type": "code",
   "execution_count": 226,
   "metadata": {},
   "outputs": [
    {
     "name": "stdout",
     "output_type": "stream",
     "text": [
      "<class 'pandas.core.frame.DataFrame'>\n",
      "Int64Index: 181494 entries, 0 to 1031470\n",
      "Data columns (total 9 columns):\n",
      " #   Column            Non-Null Count   Dtype  \n",
      "---  ------            --------------   -----  \n",
      " 0   start_time        181494 non-null  object \n",
      " 1   esports_match_id  181494 non-null  int64  \n",
      " 2   map_type          181494 non-null  object \n",
      " 3   map_name          181494 non-null  object \n",
      " 4   player_name       181494 non-null  object \n",
      " 5   team_name         181494 non-null  object \n",
      " 6   stat_name         181494 non-null  object \n",
      " 7   hero_name         181494 non-null  object \n",
      " 8   stat_amount       181494 non-null  float64\n",
      "dtypes: float64(1), int64(1), object(7)\n",
      "memory usage: 13.8+ MB\n"
     ]
    }
   ],
   "source": [
    "all_hero_df.info()"
   ]
  },
  {
   "cell_type": "code",
   "execution_count": 227,
   "metadata": {},
   "outputs": [
    {
     "name": "stdout",
     "output_type": "stream",
     "text": [
      "<class 'pandas.core.frame.DataFrame'>\n",
      "Int64Index: 314733 entries, 25 to 1031553\n",
      "Data columns (total 9 columns):\n",
      " #   Column            Non-Null Count   Dtype  \n",
      "---  ------            --------------   -----  \n",
      " 0   start_time        314733 non-null  object \n",
      " 1   esports_match_id  314733 non-null  int64  \n",
      " 2   map_type          314733 non-null  object \n",
      " 3   map_name          314733 non-null  object \n",
      " 4   player_name       314733 non-null  object \n",
      " 5   team_name         314733 non-null  object \n",
      " 6   stat_name         314733 non-null  object \n",
      " 7   hero_name         314733 non-null  object \n",
      " 8   stat_amount       314733 non-null  float64\n",
      "dtypes: float64(1), int64(1), object(7)\n",
      "memory usage: 24.0+ MB\n"
     ]
    }
   ],
   "source": [
    "non_all_hero_df.info()"
   ]
  },
  {
   "cell_type": "code",
   "execution_count": 228,
   "metadata": {},
   "outputs": [
    {
     "data": {
      "text/plain": [
       "['start_time',\n",
       " 'esports_match_id',\n",
       " 'map_type',\n",
       " 'map_name',\n",
       " 'player_name',\n",
       " 'team_name',\n",
       " 'stat_name',\n",
       " 'hero_name',\n",
       " 'stat_amount']"
      ]
     },
     "execution_count": 228,
     "metadata": {},
     "output_type": "execute_result"
    }
   ],
   "source": [
    "non_all_hero_df.columns.tolist()"
   ]
  },
  {
   "cell_type": "code",
   "execution_count": 229,
   "metadata": {},
   "outputs": [],
   "source": [
    "# check if all_hero means aggreated by mean\n",
    "res1 = non_all_hero_df.groupby(['start_time',\n",
    " 'esports_match_id',\n",
    " 'map_type',\n",
    " 'map_name',\n",
    " 'player_name',\n",
    " 'team_name',\n",
    " 'stat_name']).agg({'stat_amount':'sum'}).reset_index()"
   ]
  },
  {
   "cell_type": "code",
   "execution_count": 230,
   "metadata": {},
   "outputs": [
    {
     "data": {
      "text/html": [
       "<div>\n",
       "<style scoped>\n",
       "    .dataframe tbody tr th:only-of-type {\n",
       "        vertical-align: middle;\n",
       "    }\n",
       "\n",
       "    .dataframe tbody tr th {\n",
       "        vertical-align: top;\n",
       "    }\n",
       "\n",
       "    .dataframe thead th {\n",
       "        text-align: right;\n",
       "    }\n",
       "</style>\n",
       "<table border=\"1\" class=\"dataframe\">\n",
       "  <thead>\n",
       "    <tr style=\"text-align: right;\">\n",
       "      <th></th>\n",
       "      <th>start_time</th>\n",
       "      <th>esports_match_id</th>\n",
       "      <th>map_type</th>\n",
       "      <th>map_name</th>\n",
       "      <th>player_name</th>\n",
       "      <th>team_name</th>\n",
       "      <th>stat_name</th>\n",
       "      <th>stat_amount</th>\n",
       "    </tr>\n",
       "  </thead>\n",
       "  <tbody>\n",
       "    <tr>\n",
       "      <th>0</th>\n",
       "      <td>2021-04-16 19:08:52</td>\n",
       "      <td>37234</td>\n",
       "      <td>CONTROL</td>\n",
       "      <td>Busan</td>\n",
       "      <td>Crimzo</td>\n",
       "      <td>Houston Outlaws</td>\n",
       "      <td>All Damage Done</td>\n",
       "      <td>11070.553071</td>\n",
       "    </tr>\n",
       "    <tr>\n",
       "      <th>1</th>\n",
       "      <td>2021-04-16 19:08:52</td>\n",
       "      <td>37234</td>\n",
       "      <td>CONTROL</td>\n",
       "      <td>Busan</td>\n",
       "      <td>Crimzo</td>\n",
       "      <td>Houston Outlaws</td>\n",
       "      <td>Assists</td>\n",
       "      <td>15.000000</td>\n",
       "    </tr>\n",
       "    <tr>\n",
       "      <th>2</th>\n",
       "      <td>2021-04-16 19:08:52</td>\n",
       "      <td>37234</td>\n",
       "      <td>CONTROL</td>\n",
       "      <td>Busan</td>\n",
       "      <td>Crimzo</td>\n",
       "      <td>Houston Outlaws</td>\n",
       "      <td>Average Time Alive</td>\n",
       "      <td>349.130344</td>\n",
       "    </tr>\n",
       "    <tr>\n",
       "      <th>3</th>\n",
       "      <td>2021-04-16 19:08:52</td>\n",
       "      <td>37234</td>\n",
       "      <td>CONTROL</td>\n",
       "      <td>Busan</td>\n",
       "      <td>Crimzo</td>\n",
       "      <td>Houston Outlaws</td>\n",
       "      <td>Barrier Damage Done</td>\n",
       "      <td>3125.426678</td>\n",
       "    </tr>\n",
       "    <tr>\n",
       "      <th>4</th>\n",
       "      <td>2021-04-16 19:08:52</td>\n",
       "      <td>37234</td>\n",
       "      <td>CONTROL</td>\n",
       "      <td>Busan</td>\n",
       "      <td>Crimzo</td>\n",
       "      <td>Houston Outlaws</td>\n",
       "      <td>Damage Taken</td>\n",
       "      <td>4393.289180</td>\n",
       "    </tr>\n",
       "  </tbody>\n",
       "</table>\n",
       "</div>"
      ],
      "text/plain": [
       "            start_time  esports_match_id map_type map_name player_name  \\\n",
       "0  2021-04-16 19:08:52             37234  CONTROL    Busan      Crimzo   \n",
       "1  2021-04-16 19:08:52             37234  CONTROL    Busan      Crimzo   \n",
       "2  2021-04-16 19:08:52             37234  CONTROL    Busan      Crimzo   \n",
       "3  2021-04-16 19:08:52             37234  CONTROL    Busan      Crimzo   \n",
       "4  2021-04-16 19:08:52             37234  CONTROL    Busan      Crimzo   \n",
       "\n",
       "         team_name            stat_name   stat_amount  \n",
       "0  Houston Outlaws      All Damage Done  11070.553071  \n",
       "1  Houston Outlaws              Assists     15.000000  \n",
       "2  Houston Outlaws   Average Time Alive    349.130344  \n",
       "3  Houston Outlaws  Barrier Damage Done   3125.426678  \n",
       "4  Houston Outlaws         Damage Taken   4393.289180  "
      ]
     },
     "execution_count": 230,
     "metadata": {},
     "output_type": "execute_result"
    }
   ],
   "source": [
    "res1.head()"
   ]
  },
  {
   "cell_type": "code",
   "execution_count": 231,
   "metadata": {},
   "outputs": [
    {
     "name": "stderr",
     "output_type": "stream",
     "text": [
      "/opt/anaconda3/lib/python3.7/site-packages/pandas/core/frame.py:3997: SettingWithCopyWarning: \n",
      "A value is trying to be set on a copy of a slice from a DataFrame\n",
      "\n",
      "See the caveats in the documentation: https://pandas.pydata.org/pandas-docs/stable/user_guide/indexing.html#returning-a-view-versus-a-copy\n",
      "  errors=errors,\n"
     ]
    }
   ],
   "source": [
    "all_hero_df.drop('hero_name',axis=1,inplace=True)"
   ]
  },
  {
   "cell_type": "code",
   "execution_count": 232,
   "metadata": {},
   "outputs": [],
   "source": [
    "# comparison\n",
    "comp1 = res1.merge(all_hero_df, how='inner',on=['start_time',\n",
    " 'esports_match_id',\n",
    " 'map_type',\n",
    " 'map_name',\n",
    " 'player_name',\n",
    " 'team_name',\n",
    " 'stat_name'])"
   ]
  },
  {
   "cell_type": "code",
   "execution_count": 233,
   "metadata": {},
   "outputs": [
    {
     "data": {
      "text/html": [
       "<div>\n",
       "<style scoped>\n",
       "    .dataframe tbody tr th:only-of-type {\n",
       "        vertical-align: middle;\n",
       "    }\n",
       "\n",
       "    .dataframe tbody tr th {\n",
       "        vertical-align: top;\n",
       "    }\n",
       "\n",
       "    .dataframe thead th {\n",
       "        text-align: right;\n",
       "    }\n",
       "</style>\n",
       "<table border=\"1\" class=\"dataframe\">\n",
       "  <thead>\n",
       "    <tr style=\"text-align: right;\">\n",
       "      <th></th>\n",
       "      <th>start_time</th>\n",
       "      <th>esports_match_id</th>\n",
       "      <th>map_type</th>\n",
       "      <th>map_name</th>\n",
       "      <th>player_name</th>\n",
       "      <th>team_name</th>\n",
       "      <th>stat_name</th>\n",
       "      <th>stat_amount_x</th>\n",
       "      <th>stat_amount_y</th>\n",
       "    </tr>\n",
       "  </thead>\n",
       "  <tbody>\n",
       "    <tr>\n",
       "      <th>0</th>\n",
       "      <td>2021-04-16 19:08:52</td>\n",
       "      <td>37234</td>\n",
       "      <td>CONTROL</td>\n",
       "      <td>Busan</td>\n",
       "      <td>Crimzo</td>\n",
       "      <td>Houston Outlaws</td>\n",
       "      <td>All Damage Done</td>\n",
       "      <td>11070.553071</td>\n",
       "      <td>11070.553071</td>\n",
       "    </tr>\n",
       "    <tr>\n",
       "      <th>1</th>\n",
       "      <td>2021-04-16 19:08:52</td>\n",
       "      <td>37234</td>\n",
       "      <td>CONTROL</td>\n",
       "      <td>Busan</td>\n",
       "      <td>Crimzo</td>\n",
       "      <td>Houston Outlaws</td>\n",
       "      <td>Assists</td>\n",
       "      <td>15.000000</td>\n",
       "      <td>15.000000</td>\n",
       "    </tr>\n",
       "    <tr>\n",
       "      <th>2</th>\n",
       "      <td>2021-04-16 19:08:52</td>\n",
       "      <td>37234</td>\n",
       "      <td>CONTROL</td>\n",
       "      <td>Busan</td>\n",
       "      <td>Crimzo</td>\n",
       "      <td>Houston Outlaws</td>\n",
       "      <td>Average Time Alive</td>\n",
       "      <td>349.130344</td>\n",
       "      <td>116.376781</td>\n",
       "    </tr>\n",
       "    <tr>\n",
       "      <th>3</th>\n",
       "      <td>2021-04-16 19:08:52</td>\n",
       "      <td>37234</td>\n",
       "      <td>CONTROL</td>\n",
       "      <td>Busan</td>\n",
       "      <td>Crimzo</td>\n",
       "      <td>Houston Outlaws</td>\n",
       "      <td>Barrier Damage Done</td>\n",
       "      <td>3125.426678</td>\n",
       "      <td>3125.426678</td>\n",
       "    </tr>\n",
       "    <tr>\n",
       "      <th>4</th>\n",
       "      <td>2021-04-16 19:08:52</td>\n",
       "      <td>37234</td>\n",
       "      <td>CONTROL</td>\n",
       "      <td>Busan</td>\n",
       "      <td>Crimzo</td>\n",
       "      <td>Houston Outlaws</td>\n",
       "      <td>Damage Taken</td>\n",
       "      <td>4393.289180</td>\n",
       "      <td>4393.289180</td>\n",
       "    </tr>\n",
       "  </tbody>\n",
       "</table>\n",
       "</div>"
      ],
      "text/plain": [
       "            start_time  esports_match_id map_type map_name player_name  \\\n",
       "0  2021-04-16 19:08:52             37234  CONTROL    Busan      Crimzo   \n",
       "1  2021-04-16 19:08:52             37234  CONTROL    Busan      Crimzo   \n",
       "2  2021-04-16 19:08:52             37234  CONTROL    Busan      Crimzo   \n",
       "3  2021-04-16 19:08:52             37234  CONTROL    Busan      Crimzo   \n",
       "4  2021-04-16 19:08:52             37234  CONTROL    Busan      Crimzo   \n",
       "\n",
       "         team_name            stat_name  stat_amount_x  stat_amount_y  \n",
       "0  Houston Outlaws      All Damage Done   11070.553071   11070.553071  \n",
       "1  Houston Outlaws              Assists      15.000000      15.000000  \n",
       "2  Houston Outlaws   Average Time Alive     349.130344     116.376781  \n",
       "3  Houston Outlaws  Barrier Damage Done    3125.426678    3125.426678  \n",
       "4  Houston Outlaws         Damage Taken    4393.289180    4393.289180  "
      ]
     },
     "execution_count": 233,
     "metadata": {},
     "output_type": "execute_result"
    }
   ],
   "source": [
    "comp1.head()"
   ]
  },
  {
   "cell_type": "code",
   "execution_count": 234,
   "metadata": {},
   "outputs": [
    {
     "data": {
      "text/plain": [
       "array(['Average Time Alive', 'Barrier Damage Done', 'Healing Done',\n",
       "       'Hero Damage Done', 'Objective Time', 'Time Alive',\n",
       "       'Time Building Ultimate', 'Time Played', 'Time Holding Ultimate',\n",
       "       'All Damage Done', 'Damage Taken'], dtype=object)"
      ]
     },
     "execution_count": 234,
     "metadata": {},
     "output_type": "execute_result"
    }
   ],
   "source": [
    "comp1[comp1['stat_amount_x']!=comp1['stat_amount_y']]['stat_name'].unique()"
   ]
  },
  {
   "cell_type": "code",
   "execution_count": 235,
   "metadata": {},
   "outputs": [],
   "source": [
    "comp1['per_diff'] = (comp1['stat_amount_x']-comp1['stat_amount_y'])/comp1['stat_amount_x']"
   ]
  },
  {
   "cell_type": "code",
   "execution_count": 236,
   "metadata": {},
   "outputs": [
    {
     "data": {
      "text/plain": [
       "array(['Average Time Alive', 'Healing Done'], dtype=object)"
      ]
     },
     "execution_count": 236,
     "metadata": {},
     "output_type": "execute_result"
    }
   ],
   "source": [
    "comp1[abs(comp1['per_diff'])>0.1]['stat_name'].unique()"
   ]
  },
  {
   "cell_type": "code",
   "execution_count": 237,
   "metadata": {},
   "outputs": [
    {
     "data": {
      "text/plain": [
       "<AxesSubplot:xlabel='per_diff', ylabel='stat_name'>"
      ]
     },
     "execution_count": 237,
     "metadata": {},
     "output_type": "execute_result"
    },
    {
     "data": {
      "image/png": "[encoded data removed]",
      "text/plain": [
       "<Figure size 432x288 with 1 Axes>"
      ]
     },
     "metadata": {
      "needs_background": "light"
     },
     "output_type": "display_data"
    }
   ],
   "source": [
    "sns.barplot(x='per_diff',y='stat_name',data=comp1)"
   ]
  },
  {
   "cell_type": "markdown",
   "metadata": {},
   "source": [
    "### conclusion:\n",
    "- most of the stats are aggregated as sum\n",
    "- need to investigated into three stats: avg_time_alive(should be agg'd as mean) and Healing Done"
   ]
  },
  {
   "cell_type": "markdown",
   "metadata": {},
   "source": [
    "### investigate healing done"
   ]
  },
  {
   "cell_type": "code",
   "execution_count": 238,
   "metadata": {},
   "outputs": [
    {
     "data": {
      "text/plain": [
       "array(['All Heroes', 'Ana', 'Baptiste', 'Moira', 'Brigitte', 'Lúcio',\n",
       "       'Zenyatta', 'Soldier: 76', 'Mercy'], dtype=object)"
      ]
     },
     "execution_count": 238,
     "metadata": {},
     "output_type": "execute_result"
    }
   ],
   "source": [
    "# should include only healers healing in the analysis\n",
    "df0[df0['stat_name']=='Healing Done']['hero_name'].unique()"
   ]
  },
  {
   "cell_type": "code",
   "execution_count": 239,
   "metadata": {},
   "outputs": [],
   "source": [
    "df2 = df1[(df1['stat_name']=='Healing Done')&(df1['hero_name']!='Soldier: 76')]"
   ]
  },
  {
   "cell_type": "code",
   "execution_count": 240,
   "metadata": {},
   "outputs": [
    {
     "data": {
      "text/html": [
       "<div>\n",
       "<style scoped>\n",
       "    .dataframe tbody tr th:only-of-type {\n",
       "        vertical-align: middle;\n",
       "    }\n",
       "\n",
       "    .dataframe tbody tr th {\n",
       "        vertical-align: top;\n",
       "    }\n",
       "\n",
       "    .dataframe thead th {\n",
       "        text-align: right;\n",
       "    }\n",
       "</style>\n",
       "<table border=\"1\" class=\"dataframe\">\n",
       "  <thead>\n",
       "    <tr style=\"text-align: right;\">\n",
       "      <th></th>\n",
       "      <th>start_time</th>\n",
       "      <th>esports_match_id</th>\n",
       "      <th>map_type</th>\n",
       "      <th>map_name</th>\n",
       "      <th>player_name</th>\n",
       "      <th>team_name</th>\n",
       "      <th>stat_name</th>\n",
       "      <th>hero_name</th>\n",
       "      <th>stat_amount</th>\n",
       "    </tr>\n",
       "  </thead>\n",
       "  <tbody>\n",
       "    <tr>\n",
       "      <th>11</th>\n",
       "      <td>2021-04-16 19:08:52</td>\n",
       "      <td>37234</td>\n",
       "      <td>CONTROL</td>\n",
       "      <td>Busan</td>\n",
       "      <td>Doha</td>\n",
       "      <td>Dallas Fuel</td>\n",
       "      <td>Healing Done</td>\n",
       "      <td>All Heroes</td>\n",
       "      <td>1343.570680</td>\n",
       "    </tr>\n",
       "    <tr>\n",
       "      <th>281</th>\n",
       "      <td>2021-04-16 19:08:52</td>\n",
       "      <td>37234</td>\n",
       "      <td>CONTROL</td>\n",
       "      <td>Busan</td>\n",
       "      <td>Fielder</td>\n",
       "      <td>Dallas Fuel</td>\n",
       "      <td>Healing Done</td>\n",
       "      <td>All Heroes</td>\n",
       "      <td>16850.441792</td>\n",
       "    </tr>\n",
       "    <tr>\n",
       "      <th>312</th>\n",
       "      <td>2021-04-16 19:08:52</td>\n",
       "      <td>37234</td>\n",
       "      <td>CONTROL</td>\n",
       "      <td>Busan</td>\n",
       "      <td>Fielder</td>\n",
       "      <td>Dallas Fuel</td>\n",
       "      <td>Healing Done</td>\n",
       "      <td>Ana</td>\n",
       "      <td>7354.725084</td>\n",
       "    </tr>\n",
       "    <tr>\n",
       "      <th>360</th>\n",
       "      <td>2021-04-16 19:08:52</td>\n",
       "      <td>37234</td>\n",
       "      <td>CONTROL</td>\n",
       "      <td>Busan</td>\n",
       "      <td>Fielder</td>\n",
       "      <td>Dallas Fuel</td>\n",
       "      <td>Healing Done</td>\n",
       "      <td>Baptiste</td>\n",
       "      <td>3330.404756</td>\n",
       "    </tr>\n",
       "    <tr>\n",
       "      <th>402</th>\n",
       "      <td>2021-04-16 19:08:52</td>\n",
       "      <td>37234</td>\n",
       "      <td>CONTROL</td>\n",
       "      <td>Busan</td>\n",
       "      <td>Fielder</td>\n",
       "      <td>Dallas Fuel</td>\n",
       "      <td>Healing Done</td>\n",
       "      <td>Moira</td>\n",
       "      <td>6165.311952</td>\n",
       "    </tr>\n",
       "  </tbody>\n",
       "</table>\n",
       "</div>"
      ],
      "text/plain": [
       "              start_time  esports_match_id map_type map_name player_name  \\\n",
       "11   2021-04-16 19:08:52             37234  CONTROL    Busan        Doha   \n",
       "281  2021-04-16 19:08:52             37234  CONTROL    Busan     Fielder   \n",
       "312  2021-04-16 19:08:52             37234  CONTROL    Busan     Fielder   \n",
       "360  2021-04-16 19:08:52             37234  CONTROL    Busan     Fielder   \n",
       "402  2021-04-16 19:08:52             37234  CONTROL    Busan     Fielder   \n",
       "\n",
       "       team_name     stat_name   hero_name   stat_amount  \n",
       "11   Dallas Fuel  Healing Done  All Heroes   1343.570680  \n",
       "281  Dallas Fuel  Healing Done  All Heroes  16850.441792  \n",
       "312  Dallas Fuel  Healing Done         Ana   7354.725084  \n",
       "360  Dallas Fuel  Healing Done    Baptiste   3330.404756  \n",
       "402  Dallas Fuel  Healing Done       Moira   6165.311952  "
      ]
     },
     "execution_count": 240,
     "metadata": {},
     "output_type": "execute_result"
    }
   ],
   "source": [
    "df2.head()"
   ]
  },
  {
   "cell_type": "code",
   "execution_count": 249,
   "metadata": {},
   "outputs": [
    {
     "name": "stdout",
     "output_type": "stream",
     "text": [
      "<class 'pandas.core.frame.DataFrame'>\n",
      "Int64Index: 11120 entries, 11 to 1031411\n",
      "Data columns (total 9 columns):\n",
      " #   Column            Non-Null Count  Dtype  \n",
      "---  ------            --------------  -----  \n",
      " 0   start_time        11120 non-null  object \n",
      " 1   esports_match_id  11120 non-null  int64  \n",
      " 2   map_type          11120 non-null  object \n",
      " 3   map_name          11120 non-null  object \n",
      " 4   player_name       11120 non-null  object \n",
      " 5   team_name         11120 non-null  object \n",
      " 6   stat_name         11120 non-null  object \n",
      " 7   hero_name         11120 non-null  object \n",
      " 8   stat_amount       11120 non-null  float64\n",
      "dtypes: float64(1), int64(1), object(7)\n",
      "memory usage: 868.8+ KB\n"
     ]
    }
   ],
   "source": [
    "df2.info()"
   ]
  },
  {
   "cell_type": "code",
   "execution_count": 241,
   "metadata": {},
   "outputs": [],
   "source": [
    "def investigate_stat(stat_names, base_df, agg_method):\n",
    "    # all hero\n",
    "    test_df = base_df[base_df['stat_name'].isin(stat_names)]\n",
    "    ah = test_df[test_df['hero_name']=='All Heroes']\n",
    "    nah = test_df[test_df['hero_name']!='All Heroes']\n",
    "    res = nah.groupby(['start_time',\n",
    " 'esports_match_id',\n",
    " 'map_type',\n",
    " 'map_name',\n",
    " 'player_name',\n",
    " 'team_name',\n",
    " 'stat_name']).agg({'stat_amount':agg_method}).reset_index()\n",
    "    # compare with the stats amount of 'All Heroes'\n",
    "    comp = res.merge(ah, how='inner',on=['start_time',\n",
    " 'esports_match_id',\n",
    " 'map_type',\n",
    " 'map_name',\n",
    " 'player_name',\n",
    " 'team_name',\n",
    " 'stat_name'])\n",
    "    comp['per_diff'] = (comp['stat_amount_x']-comp['stat_amount_y'])/comp['stat_amount_x']\n",
    "    sns.barplot(x='per_diff',y='stat_name',data=comp)\n",
    "    return comp"
   ]
  },
  {
   "cell_type": "code",
   "execution_count": 252,
   "metadata": {},
   "outputs": [
    {
     "data": {
      "image/png": "[encoded data removed]",
      "text/plain": [
       "<Figure size 432x288 with 1 Axes>"
      ]
     },
     "metadata": {
      "needs_background": "light"
     },
     "output_type": "display_data"
    }
   ],
   "source": [
    "healing_result = investigate_stat(['Healing Done'], df2,'sum')"
   ]
  },
  {
   "cell_type": "markdown",
   "metadata": {},
   "source": [
    "### conclusion:\n",
    "Healing Done is also agg as sum, just need to exclude soldier:76"
   ]
  },
  {
   "cell_type": "code",
   "execution_count": 256,
   "metadata": {},
   "outputs": [],
   "source": [
    "# delete records where soldier:76 has healing done\n",
    "df3 = df1[~((df1['stat_name']=='Healing Done')&(df1['hero_name']=='Soldier: 76'))]"
   ]
  },
  {
   "cell_type": "code",
   "execution_count": 258,
   "metadata": {},
   "outputs": [
    {
     "data": {
      "text/html": [
       "<div>\n",
       "<style scoped>\n",
       "    .dataframe tbody tr th:only-of-type {\n",
       "        vertical-align: middle;\n",
       "    }\n",
       "\n",
       "    .dataframe tbody tr th {\n",
       "        vertical-align: top;\n",
       "    }\n",
       "\n",
       "    .dataframe thead th {\n",
       "        text-align: right;\n",
       "    }\n",
       "</style>\n",
       "<table border=\"1\" class=\"dataframe\">\n",
       "  <thead>\n",
       "    <tr style=\"text-align: right;\">\n",
       "      <th></th>\n",
       "      <th>start_time</th>\n",
       "      <th>esports_match_id</th>\n",
       "      <th>map_type</th>\n",
       "      <th>map_name</th>\n",
       "      <th>player_name</th>\n",
       "      <th>team_name</th>\n",
       "      <th>stat_name</th>\n",
       "      <th>hero_name</th>\n",
       "      <th>stat_amount</th>\n",
       "    </tr>\n",
       "  </thead>\n",
       "  <tbody>\n",
       "    <tr>\n",
       "      <th>0</th>\n",
       "      <td>2021-04-16 19:08:52</td>\n",
       "      <td>37234</td>\n",
       "      <td>CONTROL</td>\n",
       "      <td>Busan</td>\n",
       "      <td>Doha</td>\n",
       "      <td>Dallas Fuel</td>\n",
       "      <td>All Damage Done</td>\n",
       "      <td>All Heroes</td>\n",
       "      <td>13900.680095</td>\n",
       "    </tr>\n",
       "    <tr>\n",
       "      <th>1</th>\n",
       "      <td>2021-04-16 19:08:52</td>\n",
       "      <td>37234</td>\n",
       "      <td>CONTROL</td>\n",
       "      <td>Busan</td>\n",
       "      <td>Doha</td>\n",
       "      <td>Dallas Fuel</td>\n",
       "      <td>Assists</td>\n",
       "      <td>All Heroes</td>\n",
       "      <td>8.000000</td>\n",
       "    </tr>\n",
       "    <tr>\n",
       "      <th>2</th>\n",
       "      <td>2021-04-16 19:08:52</td>\n",
       "      <td>37234</td>\n",
       "      <td>CONTROL</td>\n",
       "      <td>Busan</td>\n",
       "      <td>Doha</td>\n",
       "      <td>Dallas Fuel</td>\n",
       "      <td>Average Time Alive</td>\n",
       "      <td>All Heroes</td>\n",
       "      <td>56.481102</td>\n",
       "    </tr>\n",
       "    <tr>\n",
       "      <th>3</th>\n",
       "      <td>2021-04-16 19:08:52</td>\n",
       "      <td>37234</td>\n",
       "      <td>CONTROL</td>\n",
       "      <td>Busan</td>\n",
       "      <td>Doha</td>\n",
       "      <td>Dallas Fuel</td>\n",
       "      <td>Barrier Damage Done</td>\n",
       "      <td>All Heroes</td>\n",
       "      <td>1495.492155</td>\n",
       "    </tr>\n",
       "    <tr>\n",
       "      <th>7</th>\n",
       "      <td>2021-04-16 19:08:52</td>\n",
       "      <td>37234</td>\n",
       "      <td>CONTROL</td>\n",
       "      <td>Busan</td>\n",
       "      <td>Doha</td>\n",
       "      <td>Dallas Fuel</td>\n",
       "      <td>Damage Taken</td>\n",
       "      <td>All Heroes</td>\n",
       "      <td>5083.619094</td>\n",
       "    </tr>\n",
       "  </tbody>\n",
       "</table>\n",
       "</div>"
      ],
      "text/plain": [
       "            start_time  esports_match_id map_type map_name player_name  \\\n",
       "0  2021-04-16 19:08:52             37234  CONTROL    Busan        Doha   \n",
       "1  2021-04-16 19:08:52             37234  CONTROL    Busan        Doha   \n",
       "2  2021-04-16 19:08:52             37234  CONTROL    Busan        Doha   \n",
       "3  2021-04-16 19:08:52             37234  CONTROL    Busan        Doha   \n",
       "7  2021-04-16 19:08:52             37234  CONTROL    Busan        Doha   \n",
       "\n",
       "     team_name            stat_name   hero_name   stat_amount  \n",
       "0  Dallas Fuel      All Damage Done  All Heroes  13900.680095  \n",
       "1  Dallas Fuel              Assists  All Heroes      8.000000  \n",
       "2  Dallas Fuel   Average Time Alive  All Heroes     56.481102  \n",
       "3  Dallas Fuel  Barrier Damage Done  All Heroes   1495.492155  \n",
       "7  Dallas Fuel         Damage Taken  All Heroes   5083.619094  "
      ]
     },
     "execution_count": 258,
     "metadata": {},
     "output_type": "execute_result"
    }
   ],
   "source": [
    "df3.head()"
   ]
  },
  {
   "cell_type": "code",
   "execution_count": 259,
   "metadata": {},
   "outputs": [
    {
     "name": "stdout",
     "output_type": "stream",
     "text": [
      "<class 'pandas.core.frame.DataFrame'>\n",
      "Int64Index: 496009 entries, 0 to 1031553\n",
      "Data columns (total 9 columns):\n",
      " #   Column            Non-Null Count   Dtype  \n",
      "---  ------            --------------   -----  \n",
      " 0   start_time        496009 non-null  object \n",
      " 1   esports_match_id  496009 non-null  int64  \n",
      " 2   map_type          496009 non-null  object \n",
      " 3   map_name          496009 non-null  object \n",
      " 4   player_name       496009 non-null  object \n",
      " 5   team_name         496009 non-null  object \n",
      " 6   stat_name         496009 non-null  object \n",
      " 7   hero_name         496009 non-null  object \n",
      " 8   stat_amount       496009 non-null  float64\n",
      "dtypes: float64(1), int64(1), object(7)\n",
      "memory usage: 37.8+ MB\n"
     ]
    }
   ],
   "source": [
    "df3.info()"
   ]
  },
  {
   "cell_type": "code",
   "execution_count": 243,
   "metadata": {},
   "outputs": [
    {
     "data": {
      "image/png": "[encoded data removed]",
      "text/plain": [
       "<Figure size 432x288 with 1 Axes>"
      ]
     },
     "metadata": {
      "needs_background": "light"
     },
     "output_type": "display_data"
    }
   ],
   "source": [
    "# investigate avg_time_alive, time_elapsed_per_ult_earn\n",
    "time_alive_n_perult = investigate_stat(['Average Time Alive'],df1,'mean')"
   ]
  },
  {
   "cell_type": "markdown",
   "metadata": {},
   "source": [
    "## Key Result 1:\n",
    "Since the way how the stats_amount agg'd has been figured out, the records of 'All Heroes' can be separated as a new summary table. The rest of the records will be used in futher study"
   ]
  },
  {
   "cell_type": "code",
   "execution_count": 264,
   "metadata": {},
   "outputs": [],
   "source": [
    "all_heroes = df3[df3['hero_name']=='All Heroes']"
   ]
  },
  {
   "cell_type": "code",
   "execution_count": 265,
   "metadata": {},
   "outputs": [
    {
     "name": "stdout",
     "output_type": "stream",
     "text": [
      "<class 'pandas.core.frame.DataFrame'>\n",
      "Int64Index: 181494 entries, 0 to 1031470\n",
      "Data columns (total 9 columns):\n",
      " #   Column            Non-Null Count   Dtype  \n",
      "---  ------            --------------   -----  \n",
      " 0   start_time        181494 non-null  object \n",
      " 1   esports_match_id  181494 non-null  int64  \n",
      " 2   map_type          181494 non-null  object \n",
      " 3   map_name          181494 non-null  object \n",
      " 4   player_name       181494 non-null  object \n",
      " 5   team_name         181494 non-null  object \n",
      " 6   stat_name         181494 non-null  object \n",
      " 7   hero_name         181494 non-null  object \n",
      " 8   stat_amount       181494 non-null  float64\n",
      "dtypes: float64(1), int64(1), object(7)\n",
      "memory usage: 13.8+ MB\n"
     ]
    }
   ],
   "source": [
    "all_heroes.info()"
   ]
  },
  {
   "cell_type": "code",
   "execution_count": 266,
   "metadata": {},
   "outputs": [],
   "source": [
    "# export\n",
    "# all_heroes.to_csv('all_heroes_stats.csv')"
   ]
  },
  {
   "cell_type": "code",
   "execution_count": 267,
   "metadata": {},
   "outputs": [],
   "source": [
    "df4 = df3[df3['hero_name']!='All Heroes']"
   ]
  },
  {
   "cell_type": "code",
   "execution_count": 268,
   "metadata": {},
   "outputs": [
    {
     "name": "stdout",
     "output_type": "stream",
     "text": [
      "<class 'pandas.core.frame.DataFrame'>\n",
      "Int64Index: 314515 entries, 25 to 1031553\n",
      "Data columns (total 9 columns):\n",
      " #   Column            Non-Null Count   Dtype  \n",
      "---  ------            --------------   -----  \n",
      " 0   start_time        314515 non-null  object \n",
      " 1   esports_match_id  314515 non-null  int64  \n",
      " 2   map_type          314515 non-null  object \n",
      " 3   map_name          314515 non-null  object \n",
      " 4   player_name       314515 non-null  object \n",
      " 5   team_name         314515 non-null  object \n",
      " 6   stat_name         314515 non-null  object \n",
      " 7   hero_name         314515 non-null  object \n",
      " 8   stat_amount       314515 non-null  float64\n",
      "dtypes: float64(1), int64(1), object(7)\n",
      "memory usage: 24.0+ MB\n"
     ]
    }
   ],
   "source": [
    "df4.info()"
   ]
  },
  {
   "cell_type": "code",
   "execution_count": null,
   "metadata": {},
   "outputs": [],
   "source": [
    "# export \n",
    "df4.to_csv('selected.csv')"
   ]
  }
 ],
 "metadata": {
  "kernelspec": {
   "display_name": "Python 3",
   "language": "python",
   "name": "python3"
  },
  "language_info": {
   "codemirror_mode": {
    "name": "ipython",
    "version": 3
   },
   "file_extension": ".py",
   "mimetype": "text/x-python",
   "name": "python",
   "nbconvert_exporter": "python",
   "pygments_lexer": "ipython3",
   "version": "3.7.6"
  }
 },
 "nbformat": 4,
 "nbformat_minor": 4
}
